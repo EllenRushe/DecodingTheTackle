{
 "cells": [
  {
   "cell_type": "code",
   "execution_count": 18,
   "id": "29335f39",
   "metadata": {},
   "outputs": [],
   "source": [
    "import seaborn as sns\n",
    "sns.set_theme()\n",
    "import os\n",
    "import json\n",
    "import numpy as np\n",
    "import pandas as pd\n",
    "\n",
    "from sklearn.model_selection import train_test_split\n",
    "import matplotlib.pyplot as plt\n",
    "\n",
    "data_dir = \"data\"\n",
    "df = pd.read_excel(os.path.join(data_dir, \"Updated spreadsheet for Ellen Rushe.xlsx\", ))"
   ]
  },
  {
   "cell_type": "code",
   "execution_count": 19,
   "id": "3ad41642",
   "metadata": {},
   "outputs": [
    {
     "data": {
      "text/plain": [
       "6. Defender being coded\n",
       "0    1148\n",
       "2     352\n",
       "Name: count, dtype: int64"
      ]
     },
     "execution_count": 19,
     "metadata": {},
     "output_type": "execute_result"
    }
   ],
   "source": [
    "df[\"6. Defender being coded\"].value_counts()"
   ]
  },
  {
   "cell_type": "code",
   "execution_count": 20,
   "id": "6f9189c2",
   "metadata": {},
   "outputs": [
    {
     "data": {
      "text/plain": [
       "6. Defender being coded\n",
       "0    1148\n",
       "1     352\n",
       "Name: count, dtype: int64"
      ]
     },
     "execution_count": 20,
     "metadata": {},
     "output_type": "execute_result"
    }
   ],
   "source": [
    "df[\"6. Defender being coded\"] = df[\"6. Defender being coded\"].replace(2, 1)\n",
    "df[\"6. Defender being coded\"].value_counts()"
   ]
  },
  {
   "cell_type": "code",
   "execution_count": 21,
   "id": "6403b963",
   "metadata": {},
   "outputs": [
    {
     "data": {
      "text/plain": [
       "0. Team                                   False\n",
       "1. Previous phase                         False\n",
       "2. Pass number                            False\n",
       "3. Match period                           False\n",
       "4. Defensive direction                    False\n",
       "5. Number of defenders                    False\n",
       "6. Defender being coded                   False\n",
       "7. Tackle sequence                        False\n",
       "8. Positional grouping of tackler         False\n",
       "9. Positional grouping of ball-carrier    False\n",
       "10. Distance from ball-carrier            False\n",
       "11. Defensive team performance            False\n",
       "12. Anticipation of ball-carrier          False\n",
       "13. Come to balance                       False\n",
       "14. Body position of tackler              False\n",
       "15. Body position of ball-carrier         False\n",
       "16. Drop height                           False\n",
       "17. Dominant contact angle                False\n",
       "18. Tackler head position                 False\n",
       "19. Tackler arm position                  False\n",
       "20. Tackler foot placement close to BC    False\n",
       "21. Tacklers shoulders infront of hips    False\n",
       "22. Speed of tackler                      False\n",
       "23. Speed of BC                           False\n",
       "24. BC direction of movement              False\n",
       "25. Orientation of tackler                False\n",
       "26. Tackle type                           False\n",
       "27. Direction of tackle                   False\n",
       "28. Tackler head placement                False\n",
       "29. Body region struck on tackler         False\n",
       "30. Body region struck on BC              False\n",
       "dtype: bool"
      ]
     },
     "execution_count": 21,
     "metadata": {},
     "output_type": "execute_result"
    }
   ],
   "source": [
    "# Keep naming convention consistent - all other features have numbers before them. \n",
    "df = df.rename(columns={'Team' : '0. Team'})\n",
    "# Check for any Nan values. \n",
    "df.isna().any()"
   ]
  },
  {
   "cell_type": "code",
   "execution_count": 22,
   "id": "c96eae4f-8d8f-4c7b-ac94-cf6784bb58ba",
   "metadata": {},
   "outputs": [],
   "source": [
    "# Create a dictionary which will map existing names to those without spaces (will be used later on).\n",
    "column_name_map  = dict(zip(list(df.columns.str.replace(' ', '')), list(df.columns)))\n",
    "for k, v in column_name_map.items():\n",
    "    assert k == v.replace(\" \", \"\" )\n",
    "\n",
    "# with open(os.path.join(data_dir, 'column_name_map.json'), 'w') as f:\n",
    "#     json.dump(column_name_map , f)\n",
    "\n",
    "# Remove spaces from column names for convenience after saving original names above. \n",
    "df.columns = df.columns.str.replace(' ', '') \n"
   ]
  },
  {
   "cell_type": "code",
   "execution_count": 23,
   "id": "dcadeca0",
   "metadata": {},
   "outputs": [
    {
     "name": "stdout",
     "output_type": "stream",
     "text": [
      "31 features after target feature drop: Index(['0.Team', '1.Previousphase', '2.Passnumber', '3.Matchperiod',\n",
      "       '4.Defensivedirection', '5.Numberofdefenders', '6.Defenderbeingcoded',\n",
      "       '7.Tacklesequence', '8.Positionalgroupingoftackler',\n",
      "       '9.Positionalgroupingofball-carrier', '10.Distancefromball-carrier',\n",
      "       '11.Defensiveteamperformance', '12.Anticipationofball-carrier',\n",
      "       '13.Cometobalance', '14.Bodypositionoftackler',\n",
      "       '15.Bodypositionofball-carrier', '16.Dropheight',\n",
      "       '17.Dominantcontactangle', '18.Tacklerheadposition',\n",
      "       '19.Tacklerarmposition', '20.TacklerfootplacementclosetoBC',\n",
      "       '21.Tacklersshouldersinfrontofhips', '22.Speedoftackler',\n",
      "       '23.SpeedofBC', '24.BCdirectionofmovement', '25.Orientationoftackler',\n",
      "       '26.Tackletype', '27.Directionoftackle', '28.Tacklerheadplacement',\n",
      "       '29.Bodyregionstruckontackler', '30.BodyregionstruckonBC'],\n",
      "      dtype='object')\n",
      "80 features after dummy columns added: Index(['0.Team_0', '0.Team_1', '1.Previousphase_0', '1.Previousphase_1',\n",
      "       '1.Previousphase_2', '1.Previousphase_3', '2.Passnumber_0',\n",
      "       '2.Passnumber_1', '3.Matchperiod_0', '3.Matchperiod_1',\n",
      "       '3.Matchperiod_2', '3.Matchperiod_3', '4.Defensivedirection_0',\n",
      "       '4.Defensivedirection_1', '4.Defensivedirection_2',\n",
      "       '4.Defensivedirection_3', '5.Numberofdefenders_0',\n",
      "       '5.Numberofdefenders_1', '5.Numberofdefenders_2',\n",
      "       '6.Defenderbeingcoded_0', '6.Defenderbeingcoded_1',\n",
      "       '7.Tacklesequence_0', '7.Tacklesequence_1', '7.Tacklesequence_2',\n",
      "       '7.Tacklesequence_3', '7.Tacklesequence_4', '7.Tacklesequence_5',\n",
      "       '8.Positionalgroupingoftackler_0', '8.Positionalgroupingoftackler_1',\n",
      "       '9.Positionalgroupingofball-carrier_0',\n",
      "       '9.Positionalgroupingofball-carrier_1', '10.Distancefromball-carrier_0',\n",
      "       '10.Distancefromball-carrier_1', '10.Distancefromball-carrier_2',\n",
      "       '11.Defensiveteamperformance_0', '11.Defensiveteamperformance_1',\n",
      "       '11.Defensiveteamperformance_2', '12.Anticipationofball-carrier_0',\n",
      "       '12.Anticipationofball-carrier_1', '13.Cometobalance_0',\n",
      "       '13.Cometobalance_1', '14.Bodypositionoftackler_0',\n",
      "       '14.Bodypositionoftackler_1', '15.Bodypositionofball-carrier_0',\n",
      "       '15.Bodypositionofball-carrier_1', '16.Dropheight_0', '16.Dropheight_1',\n",
      "       '17.Dominantcontactangle_0', '17.Dominantcontactangle_1',\n",
      "       '18.Tacklerheadposition_0', '18.Tacklerheadposition_1',\n",
      "       '19.Tacklerarmposition_0', '19.Tacklerarmposition_1',\n",
      "       '20.TacklerfootplacementclosetoBC_0',\n",
      "       '20.TacklerfootplacementclosetoBC_1',\n",
      "       '21.Tacklersshouldersinfrontofhips_0',\n",
      "       '21.Tacklersshouldersinfrontofhips_1', '22.Speedoftackler_0',\n",
      "       '22.Speedoftackler_1', '22.Speedoftackler_2', '23.SpeedofBC_0',\n",
      "       '23.SpeedofBC_1', '23.SpeedofBC_2', '24.BCdirectionofmovement_0',\n",
      "       '24.BCdirectionofmovement_1', '24.BCdirectionofmovement_2',\n",
      "       '24.BCdirectionofmovement_3', '24.BCdirectionofmovement_4',\n",
      "       '25.Orientationoftackler_0', '25.Orientationoftackler_1',\n",
      "       '26.Tackletype_0', '26.Tackletype_1', '27.Directionoftackle_0',\n",
      "       '27.Directionoftackle_1', '28.Tacklerheadplacement_0',\n",
      "       '28.Tacklerheadplacement_1', '29.Bodyregionstruckontackler_0',\n",
      "       '29.Bodyregionstruckontackler_1', '30.BodyregionstruckonBC_0',\n",
      "       '30.BodyregionstruckonBC_1'],\n",
      "      dtype='object')\n"
     ]
    }
   ],
   "source": [
    "# Create a second DataFrame with one-hot-encoding for all variables. \n",
    "df_encoded = pd.get_dummies(df, columns=df.columns, dtype=float)\n",
    "# Get feature names to use later on. \n",
    "X_feature_names = list(df_encoded.columns)\n",
    "print(\"{} features after target feature drop: {}\".format( len(df.columns), df.columns))\n",
    "print(\"{} features after dummy columns added: {}\".format( len(df_encoded.columns), df_encoded.columns))\n"
   ]
  },
  {
   "cell_type": "code",
   "execution_count": 9,
   "id": "57a98783",
   "metadata": {},
   "outputs": [],
   "source": [
    "data_dir = \"data\"\n",
    "# if not os.path.exists(data_dir): os.mkdir(data_dir)\n",
    "# Convert feature DataFrame to NumPy array\n",
    " \n",
    "# Split data into train and test set. \n",
    "train, test = train_test_split(df_encoded.values, test_size=0.2, random_state=42)\n",
    "train_df = pd.DataFrame(train, columns=X_feature_names)\n",
    "test_df = pd.DataFrame(test, columns=X_feature_names)\n",
    "\n",
    "#Write to CSVs\n",
    "train_df.to_csv(os.path.join(data_dir,\"train_31_vars.csv\"), index=False)\n",
    "test_df.to_csv(os.path.join(data_dir,\"test_31_vars.csv\"), index=False)\n"
   ]
  }
 ],
 "metadata": {
  "kernelspec": {
   "display_name": "Python 3 (ipykernel)",
   "language": "python",
   "name": "python3"
  },
  "language_info": {
   "codemirror_mode": {
    "name": "ipython",
    "version": 3
   },
   "file_extension": ".py",
   "mimetype": "text/x-python",
   "name": "python",
   "nbconvert_exporter": "python",
   "pygments_lexer": "ipython3",
   "version": "3.12.0"
  }
 },
 "nbformat": 4,
 "nbformat_minor": 5
}
